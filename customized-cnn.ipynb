{
 "cells": [
  {
   "cell_type": "code",
   "execution_count": 1,
   "metadata": {
    "_cell_guid": "b1076dfc-b9ad-4769-8c92-a6c4dae69d19",
    "_uuid": "8f2839f25d086af736a60e9eeb907d3b93b6e0e5",
    "execution": {
     "iopub.execute_input": "2021-08-19T10:36:23.750285Z",
     "iopub.status.busy": "2021-08-19T10:36:23.749925Z",
     "iopub.status.idle": "2021-08-19T10:36:29.182628Z",
     "shell.execute_reply": "2021-08-19T10:36:29.181787Z",
     "shell.execute_reply.started": "2021-08-19T10:36:23.750205Z"
    }
   },
   "outputs": [],
   "source": [
    "import pandas as pd\n",
    "import numpy as np\n",
    "\n",
    "import tensorflow\n",
    "import fnmatch\n",
    "import random\n",
    "from tensorflow.keras.models import Sequential\n",
    "from tensorflow.keras.layers import Dense, Dropout, Conv2D, MaxPooling2D, Flatten\n",
    "from tensorflow.keras.optimizers import Adam\n",
    "from tensorflow.keras.metrics import categorical_crossentropy\n",
    "from tensorflow.keras.preprocessing.image import ImageDataGenerator\n",
    "from tensorflow.keras.models import Model\n",
    "from tensorflow.keras.callbacks import EarlyStopping, ReduceLROnPlateau, ModelCheckpoint\n",
    "\n",
    "import os\n",
    "import cv2\n",
    "import imageio\n",
    "import skimage\n",
    "import skimage.io\n",
    "import skimage.transform\n",
    "\n",
    "from sklearn.utils import shuffle\n",
    "from sklearn.metrics import confusion_matrix,roc_auc_score,classification_report,roc_curve,roc_auc_score\n",
    "from sklearn.model_selection import train_test_split\n",
    "\n",
    "import itertools\n",
    "import shutil\n",
    "import matplotlib.pyplot as plt\n",
    "%matplotlib inline\n",
    "\n",
    "from numpy.random import seed\n",
    "seed(101)\n",
    "import warnings\n",
    "warnings.filterwarnings(\"ignore\")"
   ]
  },
  {
   "cell_type": "code",
   "execution_count": 2,
   "metadata": {
    "execution": {
     "iopub.execute_input": "2021-08-19T10:36:29.184419Z",
     "iopub.status.busy": "2021-08-19T10:36:29.184104Z",
     "iopub.status.idle": "2021-08-19T10:36:29.201115Z",
     "shell.execute_reply": "2021-08-19T10:36:29.199797Z",
     "shell.execute_reply.started": "2021-08-19T10:36:29.184384Z"
    }
   },
   "outputs": [
    {
     "data": {
      "text/plain": [
       "['validation', 'train']"
      ]
     },
     "execution_count": 2,
     "metadata": {},
     "output_type": "execute_result"
    }
   ],
   "source": [
    "os.listdir('../input/cancer/Data')"
   ]
  },
  {
   "cell_type": "code",
   "execution_count": 3,
   "metadata": {
    "execution": {
     "iopub.execute_input": "2021-08-19T10:36:29.203509Z",
     "iopub.status.busy": "2021-08-19T10:36:29.203153Z",
     "iopub.status.idle": "2021-08-19T10:36:29.207428Z",
     "shell.execute_reply": "2021-08-19T10:36:29.206542Z",
     "shell.execute_reply.started": "2021-08-19T10:36:29.203471Z"
    }
   },
   "outputs": [],
   "source": [
    "# Create a new directory to store all available images\n",
    "all_images_dir = 'all_images_dir'\n",
    "os.mkdir(all_images_dir)"
   ]
  },
  {
   "cell_type": "code",
   "execution_count": 4,
   "metadata": {
    "execution": {
     "iopub.execute_input": "2021-08-19T10:36:29.210009Z",
     "iopub.status.busy": "2021-08-19T10:36:29.209384Z",
     "iopub.status.idle": "2021-08-19T10:36:29.856221Z",
     "shell.execute_reply": "2021-08-19T10:36:29.855267Z",
     "shell.execute_reply.started": "2021-08-19T10:36:29.209972Z"
    }
   },
   "outputs": [
    {
     "name": "stdout",
     "output_type": "stream",
     "text": [
      "__notebook_source__.ipynb  all_images_dir\n"
     ]
    }
   ],
   "source": [
    "!ls"
   ]
  },
  {
   "cell_type": "code",
   "execution_count": 5,
   "metadata": {
    "execution": {
     "iopub.execute_input": "2021-08-19T10:36:29.859674Z",
     "iopub.status.busy": "2021-08-19T10:36:29.859400Z",
     "iopub.status.idle": "2021-08-19T10:36:57.860546Z",
     "shell.execute_reply": "2021-08-19T10:36:57.859722Z",
     "shell.execute_reply.started": "2021-08-19T10:36:29.859644Z"
    }
   },
   "outputs": [],
   "source": [
    "# create a list of all patient id's\n",
    "img_list = os.listdir('../input/cancer/Data')\n",
    "\n",
    "for img in img_list:\n",
    "    \n",
    "    path_0 = '../input/cancer/Data/validation/X'\n",
    "    path_1 =  '../input/cancer/Data/validation/Y'\n",
    "\n",
    "\n",
    "\n",
    "    # create a list of all files in folder 0\n",
    "    file_list_0 = os.listdir(path_0)\n",
    "    # create a list of list all file in folder 1\n",
    "    file_list_1 = os.listdir(path_1)\n",
    "\n",
    "    # move the 0 images to all_images_dir\n",
    "    for fname in file_list_0:\n",
    "\n",
    "        # source path to image\n",
    "        src = os.path.join(path_0, fname)\n",
    "        # destination path to image\n",
    "        dst = os.path.join(all_images_dir, fname)\n",
    "        # copy the image from the source to the destination\n",
    "        shutil.copyfile(src, dst)\n",
    "\n",
    "\n",
    "    # move the 1 images to all_images_dir\n",
    "    for fname in file_list_1:\n",
    "\n",
    "        # source path to image\n",
    "        src = os.path.join(path_1, fname)\n",
    "        # destination path to image\n",
    "        dst = os.path.join(all_images_dir, fname)\n",
    "        # copy the image from the source to the destination\n",
    "        shutil.copyfile(src, dst)"
   ]
  },
  {
   "cell_type": "code",
   "execution_count": 6,
   "metadata": {
    "execution": {
     "iopub.execute_input": "2021-08-19T10:36:57.862101Z",
     "iopub.status.busy": "2021-08-19T10:36:57.861742Z",
     "iopub.status.idle": "2021-08-19T10:36:57.872320Z",
     "shell.execute_reply": "2021-08-19T10:36:57.871192Z",
     "shell.execute_reply.started": "2021-08-19T10:36:57.862065Z"
    }
   },
   "outputs": [
    {
     "data": {
      "text/plain": [
       "5022"
      ]
     },
     "execution_count": 6,
     "metadata": {},
     "output_type": "execute_result"
    }
   ],
   "source": [
    "\n",
    "len(os.listdir('all_images_dir'))"
   ]
  },
  {
   "cell_type": "code",
   "execution_count": 7,
   "metadata": {
    "execution": {
     "iopub.execute_input": "2021-08-19T10:36:57.874361Z",
     "iopub.status.busy": "2021-08-19T10:36:57.873812Z",
     "iopub.status.idle": "2021-08-19T10:36:57.903702Z",
     "shell.execute_reply": "2021-08-19T10:36:57.903019Z",
     "shell.execute_reply.started": "2021-08-19T10:36:57.874319Z"
    }
   },
   "outputs": [
    {
     "data": {
      "text/html": [
       "<div>\n",
       "<style scoped>\n",
       "    .dataframe tbody tr th:only-of-type {\n",
       "        vertical-align: middle;\n",
       "    }\n",
       "\n",
       "    .dataframe tbody tr th {\n",
       "        vertical-align: top;\n",
       "    }\n",
       "\n",
       "    .dataframe thead th {\n",
       "        text-align: right;\n",
       "    }\n",
       "</style>\n",
       "<table border=\"1\" class=\"dataframe\">\n",
       "  <thead>\n",
       "    <tr style=\"text-align: right;\">\n",
       "      <th></th>\n",
       "      <th>image_id</th>\n",
       "    </tr>\n",
       "  </thead>\n",
       "  <tbody>\n",
       "    <tr>\n",
       "      <th>0</th>\n",
       "      <td>8916_idx5_x1051_y901_class0.png</td>\n",
       "    </tr>\n",
       "    <tr>\n",
       "      <th>1</th>\n",
       "      <td>8917_idx5_x901_y751_class1.png</td>\n",
       "    </tr>\n",
       "    <tr>\n",
       "      <th>2</th>\n",
       "      <td>8956_idx5_x1701_y751_class1.png</td>\n",
       "    </tr>\n",
       "    <tr>\n",
       "      <th>3</th>\n",
       "      <td>8913_idx5_x201_y451_class0.png</td>\n",
       "    </tr>\n",
       "    <tr>\n",
       "      <th>4</th>\n",
       "      <td>8913_idx5_x401_y601_class0.png</td>\n",
       "    </tr>\n",
       "  </tbody>\n",
       "</table>\n",
       "</div>"
      ],
      "text/plain": [
       "                          image_id\n",
       "0  8916_idx5_x1051_y901_class0.png\n",
       "1   8917_idx5_x901_y751_class1.png\n",
       "2  8956_idx5_x1701_y751_class1.png\n",
       "3   8913_idx5_x201_y451_class0.png\n",
       "4   8913_idx5_x401_y601_class0.png"
      ]
     },
     "execution_count": 7,
     "metadata": {},
     "output_type": "execute_result"
    }
   ],
   "source": [
    "image_list = os.listdir('all_images_dir')\n",
    "\n",
    "df_data = pd.DataFrame(image_list, columns=['image_id'])\n",
    "\n",
    "df_data.head()"
   ]
  },
  {
   "cell_type": "code",
   "execution_count": 8,
   "metadata": {
    "execution": {
     "iopub.execute_input": "2021-08-19T10:36:57.905242Z",
     "iopub.status.busy": "2021-08-19T10:36:57.904934Z",
     "iopub.status.idle": "2021-08-19T10:36:57.923290Z",
     "shell.execute_reply": "2021-08-19T10:36:57.922430Z",
     "shell.execute_reply.started": "2021-08-19T10:36:57.905208Z"
    }
   },
   "outputs": [
    {
     "data": {
      "text/html": [
       "<div>\n",
       "<style scoped>\n",
       "    .dataframe tbody tr th:only-of-type {\n",
       "        vertical-align: middle;\n",
       "    }\n",
       "\n",
       "    .dataframe tbody tr th {\n",
       "        vertical-align: top;\n",
       "    }\n",
       "\n",
       "    .dataframe thead th {\n",
       "        text-align: right;\n",
       "    }\n",
       "</style>\n",
       "<table border=\"1\" class=\"dataframe\">\n",
       "  <thead>\n",
       "    <tr style=\"text-align: right;\">\n",
       "      <th></th>\n",
       "      <th>image_id</th>\n",
       "      <th>target</th>\n",
       "    </tr>\n",
       "  </thead>\n",
       "  <tbody>\n",
       "    <tr>\n",
       "      <th>0</th>\n",
       "      <td>8916_idx5_x1051_y901_class0.png</td>\n",
       "      <td>0</td>\n",
       "    </tr>\n",
       "    <tr>\n",
       "      <th>1</th>\n",
       "      <td>8917_idx5_x901_y751_class1.png</td>\n",
       "      <td>1</td>\n",
       "    </tr>\n",
       "    <tr>\n",
       "      <th>2</th>\n",
       "      <td>8956_idx5_x1701_y751_class1.png</td>\n",
       "      <td>1</td>\n",
       "    </tr>\n",
       "    <tr>\n",
       "      <th>3</th>\n",
       "      <td>8913_idx5_x201_y451_class0.png</td>\n",
       "      <td>0</td>\n",
       "    </tr>\n",
       "    <tr>\n",
       "      <th>4</th>\n",
       "      <td>8913_idx5_x401_y601_class0.png</td>\n",
       "      <td>0</td>\n",
       "    </tr>\n",
       "    <tr>\n",
       "      <th>5</th>\n",
       "      <td>8916_idx5_x401_y951_class1.png</td>\n",
       "      <td>1</td>\n",
       "    </tr>\n",
       "    <tr>\n",
       "      <th>6</th>\n",
       "      <td>8918_idx5_x801_y1951_class1.png</td>\n",
       "      <td>1</td>\n",
       "    </tr>\n",
       "    <tr>\n",
       "      <th>7</th>\n",
       "      <td>8914_idx5_x3451_y2901_class0.png</td>\n",
       "      <td>0</td>\n",
       "    </tr>\n",
       "    <tr>\n",
       "      <th>8</th>\n",
       "      <td>8955_idx5_x1251_y701_class1.png</td>\n",
       "      <td>1</td>\n",
       "    </tr>\n",
       "    <tr>\n",
       "      <th>9</th>\n",
       "      <td>8914_idx5_x1751_y1851_class0.png</td>\n",
       "      <td>0</td>\n",
       "    </tr>\n",
       "  </tbody>\n",
       "</table>\n",
       "</div>"
      ],
      "text/plain": [
       "                           image_id target\n",
       "0   8916_idx5_x1051_y901_class0.png      0\n",
       "1    8917_idx5_x901_y751_class1.png      1\n",
       "2   8956_idx5_x1701_y751_class1.png      1\n",
       "3    8913_idx5_x201_y451_class0.png      0\n",
       "4    8913_idx5_x401_y601_class0.png      0\n",
       "5    8916_idx5_x401_y951_class1.png      1\n",
       "6   8918_idx5_x801_y1951_class1.png      1\n",
       "7  8914_idx5_x3451_y2901_class0.png      0\n",
       "8   8955_idx5_x1251_y701_class1.png      1\n",
       "9  8914_idx5_x1751_y1851_class0.png      0"
      ]
     },
     "execution_count": 8,
     "metadata": {},
     "output_type": "execute_result"
    }
   ],
   "source": [
    "def extract_target(x):\n",
    "    # split into a list\n",
    "    a = x.split('_')\n",
    "    # the target is part of the string in index 4\n",
    "    b = a[4]\n",
    "    # the ytarget i.e. 1 or 2 is the 5th index of the string --> class1\n",
    "    target = b[5]\n",
    "    \n",
    "    return target\n",
    "\n",
    "\n",
    "# create a new column called 'target'\n",
    "df_data['target'] = df_data['image_id'].apply(extract_target)\n",
    "dict_characters = {0: 'IDC(-)', 1: 'IDC(+)'}\n",
    "df_data.head(10)"
   ]
  },
  {
   "cell_type": "code",
   "execution_count": 9,
   "metadata": {
    "execution": {
     "iopub.execute_input": "2021-08-19T10:36:57.926585Z",
     "iopub.status.busy": "2021-08-19T10:36:57.926331Z",
     "iopub.status.idle": "2021-08-19T10:36:57.931793Z",
     "shell.execute_reply": "2021-08-19T10:36:57.930618Z",
     "shell.execute_reply.started": "2021-08-19T10:36:57.926562Z"
    }
   },
   "outputs": [
    {
     "data": {
      "text/plain": [
       "(5022, 2)"
      ]
     },
     "execution_count": 9,
     "metadata": {},
     "output_type": "execute_result"
    }
   ],
   "source": [
    "df_data.shape"
   ]
  },
  {
   "cell_type": "code",
   "execution_count": 10,
   "metadata": {
    "execution": {
     "iopub.execute_input": "2021-08-19T10:36:57.934658Z",
     "iopub.status.busy": "2021-08-19T10:36:57.934156Z",
     "iopub.status.idle": "2021-08-19T10:36:57.945563Z",
     "shell.execute_reply": "2021-08-19T10:36:57.944420Z",
     "shell.execute_reply.started": "2021-08-19T10:36:57.934621Z"
    }
   },
   "outputs": [
    {
     "data": {
      "text/plain": [
       "1    2511\n",
       "0    2511\n",
       "Name: target, dtype: int64"
      ]
     },
     "execution_count": 10,
     "metadata": {},
     "output_type": "execute_result"
    }
   ],
   "source": [
    "# What is the class distribution?\n",
    "df_data['target'].value_counts()"
   ]
  },
  {
   "cell_type": "code",
   "execution_count": 11,
   "metadata": {
    "execution": {
     "iopub.execute_input": "2021-08-19T10:36:57.947569Z",
     "iopub.status.busy": "2021-08-19T10:36:57.947087Z",
     "iopub.status.idle": "2021-08-19T10:36:57.953471Z",
     "shell.execute_reply": "2021-08-19T10:36:57.952331Z",
     "shell.execute_reply.started": "2021-08-19T10:36:57.947533Z"
    }
   },
   "outputs": [],
   "source": [
    "IMAGE_SIZE = 50"
   ]
  },
  {
   "cell_type": "code",
   "execution_count": 12,
   "metadata": {
    "execution": {
     "iopub.execute_input": "2021-08-19T10:36:57.955364Z",
     "iopub.status.busy": "2021-08-19T10:36:57.954947Z",
     "iopub.status.idle": "2021-08-19T10:36:57.975826Z",
     "shell.execute_reply": "2021-08-19T10:36:57.975032Z",
     "shell.execute_reply.started": "2021-08-19T10:36:57.955329Z"
    }
   },
   "outputs": [
    {
     "name": "stdout",
     "output_type": "stream",
     "text": [
      "(4519, 2)\n",
      "(503, 2)\n"
     ]
    }
   ],
   "source": [
    "# train_test_split\n",
    "\n",
    "# stratify=y creates a balanced validation set.\n",
    "y = df_data['target']\n",
    "\n",
    "df_train, df_val = train_test_split(df_data, test_size=0.10, random_state=101, stratify=y)\n",
    "\n",
    "print(df_train.shape)\n",
    "print(df_val.shape)"
   ]
  },
  {
   "cell_type": "code",
   "execution_count": 13,
   "metadata": {
    "execution": {
     "iopub.execute_input": "2021-08-19T10:36:57.977488Z",
     "iopub.status.busy": "2021-08-19T10:36:57.977148Z",
     "iopub.status.idle": "2021-08-19T10:36:57.985964Z",
     "shell.execute_reply": "2021-08-19T10:36:57.984937Z",
     "shell.execute_reply.started": "2021-08-19T10:36:57.977452Z"
    }
   },
   "outputs": [
    {
     "data": {
      "text/plain": [
       "0    2260\n",
       "1    2259\n",
       "Name: target, dtype: int64"
      ]
     },
     "execution_count": 13,
     "metadata": {},
     "output_type": "execute_result"
    }
   ],
   "source": [
    "df_train['target'].value_counts()"
   ]
  },
  {
   "cell_type": "code",
   "execution_count": 14,
   "metadata": {
    "execution": {
     "iopub.execute_input": "2021-08-19T10:36:57.988207Z",
     "iopub.status.busy": "2021-08-19T10:36:57.987789Z",
     "iopub.status.idle": "2021-08-19T10:36:58.000103Z",
     "shell.execute_reply": "2021-08-19T10:36:57.998798Z",
     "shell.execute_reply.started": "2021-08-19T10:36:57.988167Z"
    }
   },
   "outputs": [
    {
     "data": {
      "text/plain": [
       "1    252\n",
       "0    251\n",
       "Name: target, dtype: int64"
      ]
     },
     "execution_count": 14,
     "metadata": {},
     "output_type": "execute_result"
    }
   ],
   "source": [
    "df_val['target'].value_counts()"
   ]
  },
  {
   "cell_type": "code",
   "execution_count": 15,
   "metadata": {
    "execution": {
     "iopub.execute_input": "2021-08-19T10:36:58.002099Z",
     "iopub.status.busy": "2021-08-19T10:36:58.001678Z",
     "iopub.status.idle": "2021-08-19T10:36:58.011201Z",
     "shell.execute_reply": "2021-08-19T10:36:58.009898Z",
     "shell.execute_reply.started": "2021-08-19T10:36:58.002057Z"
    }
   },
   "outputs": [],
   "source": [
    "# Create a new directory\n",
    "base_dir = 'base_dir'\n",
    "os.mkdir(base_dir)\n",
    "\n",
    "\n",
    "#[CREATE FOLDERS INSIDE THE BASE DIRECTORY]\n",
    "\n",
    "# now we create 2 folders inside 'base_dir':\n",
    "\n",
    "# train_dir\n",
    "    # X\n",
    "    # Y\n",
    "\n",
    "# val_dir\n",
    "    # X\n",
    "    # Y\n",
    "\n",
    "\n",
    "# create a path to 'base_dir' to which we will join the names of the new folders\n",
    "# train_dir\n",
    "train_dir = os.path.join(base_dir, 'train_dir')\n",
    "os.mkdir(train_dir)\n",
    "\n",
    "# val_dir\n",
    "val_dir = os.path.join(base_dir, 'val_dir')\n",
    "os.mkdir(val_dir)\n",
    "\n",
    "\n",
    "# [CREATE FOLDERS INSIDE THE TRAIN AND VALIDATION FOLDERS]\n",
    "# Inside each folder we create seperate folders for each class\n",
    "\n",
    "# create new folders inside train_dir\n",
    "X = os.path.join(train_dir, 'X')\n",
    "os.mkdir(X)\n",
    "Y = os.path.join(train_dir, 'Y')\n",
    "os.mkdir(Y)\n",
    "\n",
    "\n",
    "# create new folders inside val_dir\n",
    "X = os.path.join(val_dir, 'X')\n",
    "os.mkdir(X)\n",
    "Y = os.path.join(val_dir, 'Y')\n",
    "os.mkdir(Y)"
   ]
  },
  {
   "cell_type": "code",
   "execution_count": 16,
   "metadata": {
    "execution": {
     "iopub.execute_input": "2021-08-19T10:36:58.013075Z",
     "iopub.status.busy": "2021-08-19T10:36:58.012606Z",
     "iopub.status.idle": "2021-08-19T10:36:58.023928Z",
     "shell.execute_reply": "2021-08-19T10:36:58.022843Z",
     "shell.execute_reply.started": "2021-08-19T10:36:58.013036Z"
    }
   },
   "outputs": [
    {
     "data": {
      "text/plain": [
       "['Y', 'X']"
      ]
     },
     "execution_count": 16,
     "metadata": {},
     "output_type": "execute_result"
    }
   ],
   "source": [
    "# check that the folders have been created\n",
    "os.listdir('base_dir/train_dir')"
   ]
  },
  {
   "cell_type": "code",
   "execution_count": 17,
   "metadata": {
    "execution": {
     "iopub.execute_input": "2021-08-19T10:36:58.025947Z",
     "iopub.status.busy": "2021-08-19T10:36:58.025453Z",
     "iopub.status.idle": "2021-08-19T10:36:58.033631Z",
     "shell.execute_reply": "2021-08-19T10:36:58.032773Z",
     "shell.execute_reply.started": "2021-08-19T10:36:58.025908Z"
    }
   },
   "outputs": [],
   "source": [
    "# Set the id as the index in df_data\n",
    "df_data.set_index('image_id', inplace=True)"
   ]
  },
  {
   "cell_type": "code",
   "execution_count": 18,
   "metadata": {
    "execution": {
     "iopub.execute_input": "2021-08-19T10:36:58.036219Z",
     "iopub.status.busy": "2021-08-19T10:36:58.035609Z",
     "iopub.status.idle": "2021-08-19T10:36:58.251145Z",
     "shell.execute_reply": "2021-08-19T10:36:58.250200Z",
     "shell.execute_reply.started": "2021-08-19T10:36:58.036180Z"
    }
   },
   "outputs": [],
   "source": [
    "# Get a list of train and val images\n",
    "train_list = list(df_train['image_id'])\n",
    "val_list = list(df_val['image_id'])\n",
    "\n",
    "\n",
    "\n",
    "# Transfer the train images\n",
    "\n",
    "for image in train_list:\n",
    "    \n",
    "    \n",
    "    fname = image\n",
    "    # get the label for a certain image\n",
    "    target = df_data.loc[image,'target']\n",
    "    \n",
    "    # these must match the folder names\n",
    "    if target == '0':\n",
    "        label = 'X'\n",
    "    if target == '1':\n",
    "        label = 'Y'\n",
    "    \n",
    "    # source path to image\n",
    "    src = os.path.join(all_images_dir, fname)\n",
    "    # destination path to image\n",
    "    dst = os.path.join(train_dir, label, fname)\n",
    "    # move the image from the source to the destination\n",
    "    shutil.move(src, dst)\n",
    "    \n",
    "\n",
    "# Transfer the val images\n",
    "\n",
    "for image in val_list:\n",
    "    \n",
    "    # the id in the csv file does not have the .tif extension therefore we add it here\n",
    "    fname = image\n",
    "    # get the label for a certain image\n",
    "    target = df_data.loc[image,'target']\n",
    "    \n",
    "    # these must match the folder names\n",
    "    if target == '0':\n",
    "        label = 'X'\n",
    "    if target == '1':\n",
    "        label = 'Y'\n",
    "    \n",
    "\n",
    "    # source path to image\n",
    "    src = os.path.join(all_images_dir, fname)\n",
    "    # destination path to image\n",
    "    dst = os.path.join(val_dir, label, fname)\n",
    "    # move the image from the source to the destination\n",
    "    shutil.move(src, dst)"
   ]
  },
  {
   "cell_type": "code",
   "execution_count": 19,
   "metadata": {
    "execution": {
     "iopub.execute_input": "2021-08-19T10:36:58.253087Z",
     "iopub.status.busy": "2021-08-19T10:36:58.252625Z",
     "iopub.status.idle": "2021-08-19T10:36:58.262277Z",
     "shell.execute_reply": "2021-08-19T10:36:58.261076Z",
     "shell.execute_reply.started": "2021-08-19T10:36:58.253048Z"
    }
   },
   "outputs": [
    {
     "name": "stdout",
     "output_type": "stream",
     "text": [
      "2260\n",
      "2259\n"
     ]
    }
   ],
   "source": [
    "# check how many train images we have in each folder\n",
    "\n",
    "print(len(os.listdir('base_dir/train_dir/X')))\n",
    "print(len(os.listdir('base_dir/train_dir/Y')))"
   ]
  },
  {
   "cell_type": "code",
   "execution_count": 20,
   "metadata": {
    "execution": {
     "iopub.execute_input": "2021-08-19T10:36:58.264194Z",
     "iopub.status.busy": "2021-08-19T10:36:58.263824Z",
     "iopub.status.idle": "2021-08-19T10:36:58.270101Z",
     "shell.execute_reply": "2021-08-19T10:36:58.269070Z",
     "shell.execute_reply.started": "2021-08-19T10:36:58.264158Z"
    }
   },
   "outputs": [
    {
     "name": "stdout",
     "output_type": "stream",
     "text": [
      "251\n",
      "252\n"
     ]
    }
   ],
   "source": [
    "# check how many val images we have in each folder\n",
    "\n",
    "print(len(os.listdir('base_dir/val_dir/X')))\n",
    "print(len(os.listdir('base_dir/val_dir/Y')))"
   ]
  },
  {
   "cell_type": "code",
   "execution_count": 21,
   "metadata": {
    "execution": {
     "iopub.execute_input": "2021-08-19T10:36:58.272340Z",
     "iopub.status.busy": "2021-08-19T10:36:58.271778Z",
     "iopub.status.idle": "2021-08-19T10:36:58.278780Z",
     "shell.execute_reply": "2021-08-19T10:36:58.277692Z",
     "shell.execute_reply.started": "2021-08-19T10:36:58.272301Z"
    }
   },
   "outputs": [],
   "source": [
    "train_path = 'base_dir/train_dir'\n",
    "valid_path = 'base_dir/val_dir'\n",
    "\n",
    "\n",
    "num_train_samples = len(df_train)\n",
    "num_val_samples = len(df_val)\n",
    "train_batch_size = 10\n",
    "val_batch_size = 10\n",
    "\n",
    "\n",
    "train_steps = np.ceil(num_train_samples / train_batch_size)\n",
    "val_steps = np.ceil(num_val_samples / val_batch_size)"
   ]
  },
  {
   "cell_type": "code",
   "execution_count": 22,
   "metadata": {
    "execution": {
     "iopub.execute_input": "2021-08-19T10:36:58.280837Z",
     "iopub.status.busy": "2021-08-19T10:36:58.280377Z",
     "iopub.status.idle": "2021-08-19T10:36:58.706443Z",
     "shell.execute_reply": "2021-08-19T10:36:58.705636Z",
     "shell.execute_reply.started": "2021-08-19T10:36:58.280799Z"
    }
   },
   "outputs": [
    {
     "name": "stdout",
     "output_type": "stream",
     "text": [
      "Found 4519 images belonging to 2 classes.\n",
      "Found 503 images belonging to 2 classes.\n",
      "Found 503 images belonging to 2 classes.\n"
     ]
    }
   ],
   "source": [
    "datagen = ImageDataGenerator(rescale=1.0/255,\n",
    "                            zoom_range = 2,\n",
    "                            rotation_range = 20,\n",
    "                            horizontal_flip = True,\n",
    "                            vertical_flip = True)\n",
    "\n",
    "train_gen = datagen.flow_from_directory(train_path,\n",
    "                                        target_size=(IMAGE_SIZE,IMAGE_SIZE),\n",
    "                                        batch_size=train_batch_size,\n",
    "                                        class_mode='categorical')\n",
    "\n",
    "val_gen = datagen.flow_from_directory(valid_path,\n",
    "                                        target_size=(IMAGE_SIZE,IMAGE_SIZE),\n",
    "                                        batch_size=val_batch_size,\n",
    "                                        class_mode='categorical')\n",
    "\n",
    "# Note: shuffle=False causes the test dataset to not be shuffled\n",
    "test_gen = datagen.flow_from_directory(valid_path,\n",
    "                                        target_size=(IMAGE_SIZE,IMAGE_SIZE),\n",
    "                                        batch_size=1,\n",
    "                                        class_mode='categorical',\n",
    "                                        shuffle=False)"
   ]
  },
  {
   "cell_type": "code",
   "execution_count": 23,
   "metadata": {
    "execution": {
     "iopub.execute_input": "2021-08-19T10:36:58.708141Z",
     "iopub.status.busy": "2021-08-19T10:36:58.707778Z",
     "iopub.status.idle": "2021-08-19T10:37:01.070248Z",
     "shell.execute_reply": "2021-08-19T10:37:01.069461Z",
     "shell.execute_reply.started": "2021-08-19T10:36:58.708104Z"
    }
   },
   "outputs": [
    {
     "name": "stdout",
     "output_type": "stream",
     "text": [
      "Model: \"sequential\"\n",
      "_________________________________________________________________\n",
      "Layer (type)                 Output Shape              Param #   \n",
      "=================================================================\n",
      "conv2d (Conv2D)              (None, 48, 48, 32)        896       \n",
      "_________________________________________________________________\n",
      "conv2d_1 (Conv2D)            (None, 46, 46, 32)        9248      \n",
      "_________________________________________________________________\n",
      "conv2d_2 (Conv2D)            (None, 44, 44, 32)        9248      \n",
      "_________________________________________________________________\n",
      "max_pooling2d (MaxPooling2D) (None, 22, 22, 32)        0         \n",
      "_________________________________________________________________\n",
      "dropout (Dropout)            (None, 22, 22, 32)        0         \n",
      "_________________________________________________________________\n",
      "conv2d_3 (Conv2D)            (None, 20, 20, 64)        18496     \n",
      "_________________________________________________________________\n",
      "conv2d_4 (Conv2D)            (None, 18, 18, 64)        36928     \n",
      "_________________________________________________________________\n",
      "conv2d_5 (Conv2D)            (None, 16, 16, 64)        36928     \n",
      "_________________________________________________________________\n",
      "max_pooling2d_1 (MaxPooling2 (None, 8, 8, 64)          0         \n",
      "_________________________________________________________________\n",
      "dropout_1 (Dropout)          (None, 8, 8, 64)          0         \n",
      "_________________________________________________________________\n",
      "conv2d_6 (Conv2D)            (None, 6, 6, 128)         73856     \n",
      "_________________________________________________________________\n",
      "conv2d_7 (Conv2D)            (None, 4, 4, 128)         147584    \n",
      "_________________________________________________________________\n",
      "conv2d_8 (Conv2D)            (None, 2, 2, 128)         147584    \n",
      "_________________________________________________________________\n",
      "max_pooling2d_2 (MaxPooling2 (None, 1, 1, 128)         0         \n",
      "_________________________________________________________________\n",
      "dropout_2 (Dropout)          (None, 1, 1, 128)         0         \n",
      "_________________________________________________________________\n",
      "flatten (Flatten)            (None, 128)               0         \n",
      "_________________________________________________________________\n",
      "dense (Dense)                (None, 256)               33024     \n",
      "_________________________________________________________________\n",
      "dropout_3 (Dropout)          (None, 256)               0         \n",
      "_________________________________________________________________\n",
      "dense_1 (Dense)              (None, 2)                 514       \n",
      "=================================================================\n",
      "Total params: 514,306\n",
      "Trainable params: 514,306\n",
      "Non-trainable params: 0\n",
      "_________________________________________________________________\n"
     ]
    }
   ],
   "source": [
    "kernel_size = (3,3)\n",
    "pool_size= (2,2)\n",
    "first_filters = 32\n",
    "second_filters = 64\n",
    "third_filters = 128\n",
    "\n",
    "dropout_conv = 0.3\n",
    "dropout_dense = 0.3\n",
    "\n",
    "\n",
    "model = Sequential()\n",
    "model.add(Conv2D(first_filters, kernel_size, activation = 'relu', \n",
    "                 input_shape = (IMAGE_SIZE, IMAGE_SIZE, 3)))\n",
    "model.add(Conv2D(first_filters, kernel_size, activation = 'relu'))\n",
    "model.add(Conv2D(first_filters, kernel_size, activation = 'relu'))\n",
    "model.add(MaxPooling2D(pool_size = pool_size)) \n",
    "model.add(Dropout(dropout_conv))\n",
    "\n",
    "model.add(Conv2D(second_filters, kernel_size, activation ='relu'))\n",
    "model.add(Conv2D(second_filters, kernel_size, activation ='relu'))\n",
    "model.add(Conv2D(second_filters, kernel_size, activation ='relu'))\n",
    "model.add(MaxPooling2D(pool_size = pool_size))\n",
    "model.add(Dropout(dropout_conv))\n",
    "\n",
    "model.add(Conv2D(third_filters, kernel_size, activation ='relu'))\n",
    "model.add(Conv2D(third_filters, kernel_size, activation ='relu'))\n",
    "model.add(Conv2D(third_filters, kernel_size, activation ='relu'))\n",
    "model.add(MaxPooling2D(pool_size = pool_size))\n",
    "model.add(Dropout(dropout_conv))\n",
    "\n",
    "model.add(Flatten())\n",
    "model.add(Dense(256, activation = \"relu\"))\n",
    "model.add(Dropout(dropout_dense))\n",
    "model.add(Dense(2, activation = \"softmax\"))\n",
    "\n",
    "model.summary()"
   ]
  },
  {
   "cell_type": "code",
   "execution_count": 24,
   "metadata": {
    "execution": {
     "iopub.execute_input": "2021-08-19T10:37:01.072061Z",
     "iopub.status.busy": "2021-08-19T10:37:01.071662Z",
     "iopub.status.idle": "2021-08-19T10:37:01.088540Z",
     "shell.execute_reply": "2021-08-19T10:37:01.087598Z",
     "shell.execute_reply.started": "2021-08-19T10:37:01.072019Z"
    }
   },
   "outputs": [],
   "source": [
    "model.compile(Adam(lr=0.0001), loss='binary_crossentropy', \n",
    "              metrics=['accuracy'])"
   ]
  },
  {
   "cell_type": "code",
   "execution_count": 25,
   "metadata": {
    "execution": {
     "iopub.execute_input": "2021-08-19T10:37:01.091049Z",
     "iopub.status.busy": "2021-08-19T10:37:01.090363Z",
     "iopub.status.idle": "2021-08-19T10:37:53.005301Z",
     "shell.execute_reply": "2021-08-19T10:37:53.004465Z",
     "shell.execute_reply.started": "2021-08-19T10:37:01.090814Z"
    }
   },
   "outputs": [
    {
     "name": "stdout",
     "output_type": "stream",
     "text": [
      "Epoch 1/20\n",
      "100/100 [==============================] - 10s 26ms/step - loss: 0.6920 - accuracy: 0.4887 - val_loss: 0.6921 - val_accuracy: 0.6223\n",
      "Epoch 2/20\n",
      "100/100 [==============================] - 2s 21ms/step - loss: 0.6785 - accuracy: 0.5274 - val_loss: 0.6168 - val_accuracy: 0.6938\n",
      "Epoch 3/20\n",
      "100/100 [==============================] - 2s 21ms/step - loss: 0.6123 - accuracy: 0.7351 - val_loss: 0.5489 - val_accuracy: 0.7038\n",
      "Epoch 4/20\n",
      "100/100 [==============================] - 2s 21ms/step - loss: 0.5027 - accuracy: 0.7598 - val_loss: 0.4407 - val_accuracy: 0.8012\n",
      "Epoch 5/20\n",
      "100/100 [==============================] - 3s 26ms/step - loss: 0.4308 - accuracy: 0.8063 - val_loss: 0.4412 - val_accuracy: 0.8250\n",
      "Epoch 6/20\n",
      "100/100 [==============================] - 2s 24ms/step - loss: 0.4658 - accuracy: 0.7957 - val_loss: 0.4243 - val_accuracy: 0.8231\n",
      "Epoch 7/20\n",
      "100/100 [==============================] - 2s 21ms/step - loss: 0.4203 - accuracy: 0.8210 - val_loss: 0.4290 - val_accuracy: 0.8171\n",
      "Epoch 8/20\n",
      "100/100 [==============================] - 2s 21ms/step - loss: 0.4194 - accuracy: 0.8146 - val_loss: 0.5026 - val_accuracy: 0.7356\n",
      "Epoch 9/20\n",
      "100/100 [==============================] - 2s 22ms/step - loss: 0.4604 - accuracy: 0.7927 - val_loss: 0.4481 - val_accuracy: 0.8052\n",
      "Epoch 10/20\n",
      "100/100 [==============================] - 2s 23ms/step - loss: 0.4074 - accuracy: 0.8407 - val_loss: 0.4520 - val_accuracy: 0.8052\n",
      "Epoch 11/20\n",
      "100/100 [==============================] - 2s 21ms/step - loss: 0.3873 - accuracy: 0.8602 - val_loss: 0.4020 - val_accuracy: 0.8270\n",
      "Epoch 12/20\n",
      "100/100 [==============================] - 2s 22ms/step - loss: 0.3829 - accuracy: 0.8480 - val_loss: 0.4151 - val_accuracy: 0.8290\n",
      "Epoch 13/20\n",
      "100/100 [==============================] - 2s 21ms/step - loss: 0.3512 - accuracy: 0.8571 - val_loss: 0.4218 - val_accuracy: 0.8151\n",
      "Epoch 14/20\n",
      "100/100 [==============================] - 2s 23ms/step - loss: 0.3665 - accuracy: 0.8592 - val_loss: 0.3921 - val_accuracy: 0.8330\n",
      "Epoch 15/20\n",
      "100/100 [==============================] - 2s 23ms/step - loss: 0.3186 - accuracy: 0.8827 - val_loss: 0.3798 - val_accuracy: 0.8588\n",
      "Epoch 16/20\n",
      "100/100 [==============================] - 2s 21ms/step - loss: 0.3781 - accuracy: 0.8488 - val_loss: 0.3890 - val_accuracy: 0.8370\n",
      "Epoch 17/20\n",
      "100/100 [==============================] - 2s 21ms/step - loss: 0.3814 - accuracy: 0.8493 - val_loss: 0.3648 - val_accuracy: 0.8449\n",
      "Epoch 18/20\n",
      "100/100 [==============================] - 2s 21ms/step - loss: 0.3833 - accuracy: 0.8387 - val_loss: 0.3838 - val_accuracy: 0.8370\n",
      "Epoch 19/20\n",
      "100/100 [==============================] - 2s 22ms/step - loss: 0.2982 - accuracy: 0.8802 - val_loss: 0.3647 - val_accuracy: 0.8410\n",
      "Epoch 20/20\n",
      "100/100 [==============================] - 2s 21ms/step - loss: 0.3519 - accuracy: 0.8604 - val_loss: 0.4008 - val_accuracy: 0.8211\n"
     ]
    }
   ],
   "source": [
    "filepath = \"cnn.h5\"\n",
    "checkpoint = ModelCheckpoint(filepath, monitor='val_acc', verbose=1, \n",
    "                             save_best_only=True, mode='max')\n",
    "\n",
    "reduce_lr = ReduceLROnPlateau(monitor='val_acc', factor=0.5, patience=3, \n",
    "                                   verbose=1, mode='max', min_lr=0.00001)\n",
    "                              \n",
    "                              \n",
    "callbacks_list = [checkpoint, reduce_lr]\n",
    "\n",
    "history = model.fit_generator(train_gen, steps_per_epoch=100, \n",
    "                    validation_data=val_gen,\n",
    "                    validation_steps=val_steps,\n",
    "                    epochs=20, verbose=1,\n",
    "                   callbacks=callbacks_list)"
   ]
  },
  {
   "cell_type": "code",
   "execution_count": 26,
   "metadata": {
    "execution": {
     "iopub.execute_input": "2021-08-19T10:37:53.007224Z",
     "iopub.status.busy": "2021-08-19T10:37:53.006848Z",
     "iopub.status.idle": "2021-08-19T10:37:53.076411Z",
     "shell.execute_reply": "2021-08-19T10:37:53.075663Z",
     "shell.execute_reply.started": "2021-08-19T10:37:53.007183Z"
    }
   },
   "outputs": [],
   "source": [
    "model.save('cnn.h5') "
   ]
  },
  {
   "cell_type": "code",
   "execution_count": 27,
   "metadata": {
    "execution": {
     "iopub.execute_input": "2021-08-19T10:37:53.080584Z",
     "iopub.status.busy": "2021-08-19T10:37:53.080322Z",
     "iopub.status.idle": "2021-08-19T10:37:53.088161Z",
     "shell.execute_reply": "2021-08-19T10:37:53.087066Z",
     "shell.execute_reply.started": "2021-08-19T10:37:53.080558Z"
    }
   },
   "outputs": [
    {
     "data": {
      "text/plain": [
       "['loss', 'accuracy']"
      ]
     },
     "execution_count": 27,
     "metadata": {},
     "output_type": "execute_result"
    }
   ],
   "source": [
    "# get the metric names so we can use evaulate_generator\n",
    "model.metrics_names"
   ]
  },
  {
   "cell_type": "code",
   "execution_count": 28,
   "metadata": {
    "execution": {
     "iopub.execute_input": "2021-08-19T10:37:53.090549Z",
     "iopub.status.busy": "2021-08-19T10:37:53.090155Z",
     "iopub.status.idle": "2021-08-19T10:37:53.464891Z",
     "shell.execute_reply": "2021-08-19T10:37:53.464139Z",
     "shell.execute_reply.started": "2021-08-19T10:37:53.090489Z"
    }
   },
   "outputs": [
    {
     "data": {
      "text/plain": [
       "<Figure size 432x288 with 0 Axes>"
      ]
     },
     "execution_count": 28,
     "metadata": {},
     "output_type": "execute_result"
    },
    {
     "data": {
      "image/png": "[encoded data removed]",
      "text/plain": [
       "<Figure size 432x288 with 1 Axes>"
      ]
     },
     "metadata": {
      "needs_background": "light"
     },
     "output_type": "display_data"
    },
    {
     "data": {
      "image/png": "[encoded data removed]",
      "text/plain": [
       "<Figure size 432x288 with 1 Axes>"
      ]
     },
     "metadata": {
      "needs_background": "light"
     },
     "output_type": "display_data"
    },
    {
     "data": {
      "text/plain": [
       "<Figure size 432x288 with 0 Axes>"
      ]
     },
     "metadata": {},
     "output_type": "display_data"
    }
   ],
   "source": [
    "# display the loss and accuracy curves\n",
    "\n",
    "accuracy = history.history['accuracy']\n",
    "val_accuracy = history.history['val_accuracy']\n",
    "loss = history.history['loss']\n",
    "val_loss = history.history['val_loss']\n",
    "\n",
    "epochs = range(1, len(accuracy) + 1)\n",
    "\n",
    "plt.plot(epochs, loss, 'bo', label='Training loss')\n",
    "plt.plot(epochs, val_loss, 'b', label='Validation loss')\n",
    "plt.title('Training and validation loss')\n",
    "plt.legend()\n",
    "plt.figure()\n",
    "\n",
    "plt.plot(epochs, accuracy, 'bo', label='Training acc')\n",
    "plt.plot(epochs, val_accuracy, 'b', label='Validation acc')\n",
    "plt.title('Training and validation accuracy')\n",
    "plt.legend()\n",
    "plt.figure()"
   ]
  },
  {
   "cell_type": "code",
   "execution_count": 29,
   "metadata": {
    "execution": {
     "iopub.execute_input": "2021-08-19T10:37:53.466546Z",
     "iopub.status.busy": "2021-08-19T10:37:53.466188Z",
     "iopub.status.idle": "2021-08-19T10:37:55.012415Z",
     "shell.execute_reply": "2021-08-19T10:37:55.011640Z",
     "shell.execute_reply.started": "2021-08-19T10:37:53.466509Z"
    }
   },
   "outputs": [
    {
     "name": "stdout",
     "output_type": "stream",
     "text": [
      "503/503 [==============================] - 2s 3ms/step\n"
     ]
    }
   ],
   "source": [
    "# make a prediction\n",
    "predictions = model.predict_generator(test_gen, steps=len(df_val), verbose=1)"
   ]
  },
  {
   "cell_type": "code",
   "execution_count": 30,
   "metadata": {
    "execution": {
     "iopub.execute_input": "2021-08-19T10:37:55.014122Z",
     "iopub.status.busy": "2021-08-19T10:37:55.013822Z",
     "iopub.status.idle": "2021-08-19T10:37:55.019099Z",
     "shell.execute_reply": "2021-08-19T10:37:55.018134Z",
     "shell.execute_reply.started": "2021-08-19T10:37:55.014089Z"
    }
   },
   "outputs": [
    {
     "data": {
      "text/plain": [
       "(503, 2)"
      ]
     },
     "execution_count": 30,
     "metadata": {},
     "output_type": "execute_result"
    }
   ],
   "source": [
    "predictions.shape"
   ]
  },
  {
   "cell_type": "code",
   "execution_count": 31,
   "metadata": {
    "execution": {
     "iopub.execute_input": "2021-08-19T10:37:55.020902Z",
     "iopub.status.busy": "2021-08-19T10:37:55.020335Z",
     "iopub.status.idle": "2021-08-19T10:37:55.031531Z",
     "shell.execute_reply": "2021-08-19T10:37:55.030428Z",
     "shell.execute_reply.started": "2021-08-19T10:37:55.020852Z"
    }
   },
   "outputs": [
    {
     "data": {
      "text/plain": [
       "{'X': 0, 'Y': 1}"
      ]
     },
     "execution_count": 31,
     "metadata": {},
     "output_type": "execute_result"
    }
   ],
   "source": [
    "# This is how to check what index keras has internally assigned to each class. \n",
    "test_gen.class_indices"
   ]
  },
  {
   "cell_type": "code",
   "execution_count": 32,
   "metadata": {
    "execution": {
     "iopub.execute_input": "2021-08-19T10:37:55.033184Z",
     "iopub.status.busy": "2021-08-19T10:37:55.032811Z",
     "iopub.status.idle": "2021-08-19T10:37:55.048797Z",
     "shell.execute_reply": "2021-08-19T10:37:55.047582Z",
     "shell.execute_reply.started": "2021-08-19T10:37:55.033149Z"
    }
   },
   "outputs": [
    {
     "data": {
      "text/html": [
       "<div>\n",
       "<style scoped>\n",
       "    .dataframe tbody tr th:only-of-type {\n",
       "        vertical-align: middle;\n",
       "    }\n",
       "\n",
       "    .dataframe tbody tr th {\n",
       "        vertical-align: top;\n",
       "    }\n",
       "\n",
       "    .dataframe thead th {\n",
       "        text-align: right;\n",
       "    }\n",
       "</style>\n",
       "<table border=\"1\" class=\"dataframe\">\n",
       "  <thead>\n",
       "    <tr style=\"text-align: right;\">\n",
       "      <th></th>\n",
       "      <th>X</th>\n",
       "      <th>Y</th>\n",
       "    </tr>\n",
       "  </thead>\n",
       "  <tbody>\n",
       "    <tr>\n",
       "      <th>0</th>\n",
       "      <td>0.978421</td>\n",
       "      <td>0.021579</td>\n",
       "    </tr>\n",
       "    <tr>\n",
       "      <th>1</th>\n",
       "      <td>0.967037</td>\n",
       "      <td>0.032963</td>\n",
       "    </tr>\n",
       "    <tr>\n",
       "      <th>2</th>\n",
       "      <td>0.867609</td>\n",
       "      <td>0.132391</td>\n",
       "    </tr>\n",
       "    <tr>\n",
       "      <th>3</th>\n",
       "      <td>0.007880</td>\n",
       "      <td>0.992120</td>\n",
       "    </tr>\n",
       "    <tr>\n",
       "      <th>4</th>\n",
       "      <td>0.563213</td>\n",
       "      <td>0.436787</td>\n",
       "    </tr>\n",
       "  </tbody>\n",
       "</table>\n",
       "</div>"
      ],
      "text/plain": [
       "          X         Y\n",
       "0  0.978421  0.021579\n",
       "1  0.967037  0.032963\n",
       "2  0.867609  0.132391\n",
       "3  0.007880  0.992120\n",
       "4  0.563213  0.436787"
      ]
     },
     "execution_count": 32,
     "metadata": {},
     "output_type": "execute_result"
    }
   ],
   "source": [
    "# Put the predictions into a dataframe.\n",
    "# The columns need to be oredered to match the output of the previous cell\n",
    "\n",
    "df_preds = pd.DataFrame(predictions, columns=['X', 'Y'])\n",
    "\n",
    "df_preds.head()"
   ]
  },
  {
   "cell_type": "code",
   "execution_count": 33,
   "metadata": {
    "execution": {
     "iopub.execute_input": "2021-08-19T10:37:55.050681Z",
     "iopub.status.busy": "2021-08-19T10:37:55.050291Z",
     "iopub.status.idle": "2021-08-19T10:37:55.057722Z",
     "shell.execute_reply": "2021-08-19T10:37:55.056667Z",
     "shell.execute_reply.started": "2021-08-19T10:37:55.050642Z"
    }
   },
   "outputs": [],
   "source": [
    "# Get the true labels\n",
    "y_true = test_gen.classes\n",
    "\n",
    "# Get the predicted labels as probabilities\n",
    "y_pred = df_preds['Y']"
   ]
  },
  {
   "cell_type": "code",
   "execution_count": 34,
   "metadata": {
    "execution": {
     "iopub.execute_input": "2021-08-19T10:37:55.059743Z",
     "iopub.status.busy": "2021-08-19T10:37:55.059337Z",
     "iopub.status.idle": "2021-08-19T10:37:55.071923Z",
     "shell.execute_reply": "2021-08-19T10:37:55.070736Z",
     "shell.execute_reply.started": "2021-08-19T10:37:55.059701Z"
    }
   },
   "outputs": [
    {
     "data": {
      "text/plain": [
       "0.9285239992411307"
      ]
     },
     "execution_count": 34,
     "metadata": {},
     "output_type": "execute_result"
    }
   ],
   "source": [
    "\n",
    "roc_auc_score(y_true, y_pred)\n"
   ]
  },
  {
   "cell_type": "code",
   "execution_count": 35,
   "metadata": {
    "execution": {
     "iopub.execute_input": "2021-08-19T10:37:55.073928Z",
     "iopub.status.busy": "2021-08-19T10:37:55.073496Z",
     "iopub.status.idle": "2021-08-19T10:37:55.084067Z",
     "shell.execute_reply": "2021-08-19T10:37:55.083179Z",
     "shell.execute_reply.started": "2021-08-19T10:37:55.073889Z"
    }
   },
   "outputs": [],
   "source": [
    "def plot_confusion_matrix(cm, classes,\n",
    "                          normalize=False,\n",
    "                          title='Confusion matrix',\n",
    "                          cmap=plt.cm.Blues):\n",
    "    \"\"\"\n",
    "    This function prints and plots the confusion matrix.\n",
    "    Normalization can be applied by setting `normalize=True`.\n",
    "    \"\"\"\n",
    "    if normalize:\n",
    "        cm = cm.astype('float') / cm.sum(axis=1)[:, np.newaxis]\n",
    "        print(\"Normalized confusion matrix\")\n",
    "    else:\n",
    "        print('Confusion matrix, without normalization')\n",
    "\n",
    "    print(cm)\n",
    "\n",
    "    plt.imshow(cm, interpolation='nearest', cmap=cmap)\n",
    "    plt.title(title)\n",
    "    plt.colorbar()\n",
    "    tick_marks = np.arange(len(classes))\n",
    "    plt.xticks(tick_marks, classes, rotation=45)\n",
    "    plt.yticks(tick_marks, classes)\n",
    "\n",
    "    fmt = '.2f' if normalize else 'd'\n",
    "    thresh = cm.max() / 2.\n",
    "    for i, j in itertools.product(range(cm.shape[0]), range(cm.shape[1])):\n",
    "        plt.text(j, i, format(cm[i, j], fmt),\n",
    "                 horizontalalignment=\"center\",\n",
    "                 color=\"white\" if cm[i, j] > thresh else \"black\")\n",
    "\n",
    "    plt.ylabel('True label')\n",
    "    plt.xlabel('Predicted label')\n",
    "    plt.tight_layout()"
   ]
  },
  {
   "cell_type": "code",
   "execution_count": 36,
   "metadata": {
    "execution": {
     "iopub.execute_input": "2021-08-19T10:37:55.085897Z",
     "iopub.status.busy": "2021-08-19T10:37:55.085454Z",
     "iopub.status.idle": "2021-08-19T10:37:55.096985Z",
     "shell.execute_reply": "2021-08-19T10:37:55.096007Z",
     "shell.execute_reply.started": "2021-08-19T10:37:55.085846Z"
    }
   },
   "outputs": [],
   "source": [
    "# Get the labels of the test images.\n",
    "\n",
    "test_labels = test_gen.classes"
   ]
  },
  {
   "cell_type": "code",
   "execution_count": 37,
   "metadata": {
    "execution": {
     "iopub.execute_input": "2021-08-19T10:37:55.100153Z",
     "iopub.status.busy": "2021-08-19T10:37:55.099912Z",
     "iopub.status.idle": "2021-08-19T10:37:55.108474Z",
     "shell.execute_reply": "2021-08-19T10:37:55.107489Z",
     "shell.execute_reply.started": "2021-08-19T10:37:55.100130Z"
    }
   },
   "outputs": [
    {
     "data": {
      "text/plain": [
       "(503,)"
      ]
     },
     "execution_count": 37,
     "metadata": {},
     "output_type": "execute_result"
    }
   ],
   "source": [
    "test_labels.shape\n"
   ]
  },
  {
   "cell_type": "code",
   "execution_count": 38,
   "metadata": {
    "execution": {
     "iopub.execute_input": "2021-08-19T10:37:55.110355Z",
     "iopub.status.busy": "2021-08-19T10:37:55.109918Z",
     "iopub.status.idle": "2021-08-19T10:37:55.120124Z",
     "shell.execute_reply": "2021-08-19T10:37:55.119253Z",
     "shell.execute_reply.started": "2021-08-19T10:37:55.110319Z"
    }
   },
   "outputs": [],
   "source": [
    "# argmax returns the index of the max value in a row\n",
    "cm = confusion_matrix(test_labels, predictions.argmax(axis=1))"
   ]
  },
  {
   "cell_type": "code",
   "execution_count": 39,
   "metadata": {
    "execution": {
     "iopub.execute_input": "2021-08-19T10:37:55.121917Z",
     "iopub.status.busy": "2021-08-19T10:37:55.121506Z",
     "iopub.status.idle": "2021-08-19T10:37:55.376504Z",
     "shell.execute_reply": "2021-08-19T10:37:55.375737Z",
     "shell.execute_reply.started": "2021-08-19T10:37:55.121878Z"
    }
   },
   "outputs": [
    {
     "name": "stdout",
     "output_type": "stream",
     "text": [
      "Confusion matrix, without normalization\n",
      "[[188  63]\n",
      " [ 22 230]]\n"
     ]
    },
    {
     "data": {
      "image/png": "[encoded data removed]",
      "text/plain": [
       "<Figure size 432x288 with 2 Axes>"
      ]
     },
     "metadata": {
      "needs_background": "light"
     },
     "output_type": "display_data"
    }
   ],
   "source": [
    "# Define the labels of the class indices. These need to match the \n",
    "# order shown above.\n",
    "cm_plot_labels = ['X', 'Y']\n",
    "\n",
    "plot_confusion_matrix(cm, cm_plot_labels, title='Confusion Matrix')"
   ]
  },
  {
   "cell_type": "code",
   "execution_count": 40,
   "metadata": {
    "execution": {
     "iopub.execute_input": "2021-08-19T10:37:55.379034Z",
     "iopub.status.busy": "2021-08-19T10:37:55.378687Z",
     "iopub.status.idle": "2021-08-19T10:37:55.390573Z",
     "shell.execute_reply": "2021-08-19T10:37:55.389567Z",
     "shell.execute_reply.started": "2021-08-19T10:37:55.379001Z"
    }
   },
   "outputs": [
    {
     "name": "stdout",
     "output_type": "stream",
     "text": [
      "              precision    recall  f1-score   support\n",
      "\n",
      "           X       0.90      0.75      0.82       251\n",
      "           Y       0.78      0.91      0.84       252\n",
      "\n",
      "    accuracy                           0.83       503\n",
      "   macro avg       0.84      0.83      0.83       503\n",
      "weighted avg       0.84      0.83      0.83       503\n",
      "\n"
     ]
    }
   ],
   "source": [
    "\n",
    "# Generate a classification report\n",
    "\n",
    "# For this to work we need y_pred as binary labels not as probabilities\n",
    "y_pred_binary = predictions.argmax(axis=1)\n",
    "\n",
    "report = classification_report(y_true, y_pred_binary, target_names=cm_plot_labels)\n",
    "\n",
    "print(report)"
   ]
  },
  {
   "cell_type": "code",
   "execution_count": 41,
   "metadata": {
    "execution": {
     "iopub.execute_input": "2021-08-19T10:37:55.392322Z",
     "iopub.status.busy": "2021-08-19T10:37:55.391814Z",
     "iopub.status.idle": "2021-08-19T10:37:55.397718Z",
     "shell.execute_reply": "2021-08-19T10:37:55.396737Z",
     "shell.execute_reply.started": "2021-08-19T10:37:55.392275Z"
    }
   },
   "outputs": [],
   "source": [
    "def plot_roc_curve(fpr, tpr):\n",
    "    plt.plot(fpr, tpr, color='orange', label='ROC')\n",
    "    plt.plot([0, 1], [0, 1], color='darkblue', linestyle='--')\n",
    "    plt.xlabel('False Positive Rate')\n",
    "    plt.ylabel('True Positive Rate')\n",
    "    plt.title('Receiver Operating Characteristic (ROC) Curve')\n",
    "    plt.legend()\n",
    "    plt.show()"
   ]
  },
  {
   "cell_type": "code",
   "execution_count": 42,
   "metadata": {
    "execution": {
     "iopub.execute_input": "2021-08-19T10:37:55.400029Z",
     "iopub.status.busy": "2021-08-19T10:37:55.399312Z",
     "iopub.status.idle": "2021-08-19T10:37:55.410664Z",
     "shell.execute_reply": "2021-08-19T10:37:55.409756Z",
     "shell.execute_reply.started": "2021-08-19T10:37:55.399989Z"
    }
   },
   "outputs": [],
   "source": [
    "fpr, tpr, thresholds = roc_curve(y_true, y_pred)"
   ]
  },
  {
   "cell_type": "code",
   "execution_count": 43,
   "metadata": {
    "execution": {
     "iopub.execute_input": "2021-08-19T10:37:55.413375Z",
     "iopub.status.busy": "2021-08-19T10:37:55.412766Z",
     "iopub.status.idle": "2021-08-19T10:37:55.551011Z",
     "shell.execute_reply": "2021-08-19T10:37:55.550073Z",
     "shell.execute_reply.started": "2021-08-19T10:37:55.413335Z"
    }
   },
   "outputs": [
    {
     "data": {
      "image/png": "[encoded data removed]",
      "text/plain": [
       "<Figure size 432x288 with 1 Axes>"
      ]
     },
     "metadata": {
      "needs_background": "light"
     },
     "output_type": "display_data"
    }
   ],
   "source": [
    "plot_roc_curve(fpr, tpr)"
   ]
  },
  {
   "cell_type": "code",
   "execution_count": null,
   "metadata": {},
   "outputs": [],
   "source": []
  }
 ],
 "metadata": {
  "kernelspec": {
   "display_name": "Python 3",
   "language": "python",
   "name": "python3"
  },
  "language_info": {
   "codemirror_mode": {
    "name": "ipython",
    "version": 3
   },
   "file_extension": ".py",
   "mimetype": "text/x-python",
   "name": "python",
   "nbconvert_exporter": "python",
   "pygments_lexer": "ipython3",
   "version": "3.8.3"
  }
 },
 "nbformat": 4,
 "nbformat_minor": 4
}
