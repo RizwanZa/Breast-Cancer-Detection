{
 "cells": [
  {
   "cell_type": "code",
   "execution_count": 1,
   "metadata": {
    "_cell_guid": "b1076dfc-b9ad-4769-8c92-a6c4dae69d19",
    "_uuid": "8f2839f25d086af736a60e9eeb907d3b93b6e0e5",
    "execution": {
     "iopub.execute_input": "2021-08-12T14:49:38.455689Z",
     "iopub.status.busy": "2021-08-12T14:49:38.455327Z",
     "iopub.status.idle": "2021-08-12T14:49:43.038036Z",
     "shell.execute_reply": "2021-08-12T14:49:43.037160Z",
     "shell.execute_reply.started": "2021-08-12T14:49:38.455611Z"
    }
   },
   "outputs": [],
   "source": [
    "from keras.layers import Input, Lambda, Dense, Flatten\n",
    "from keras.models import Model\n",
    "from keras.applications.vgg16 import VGG16\n",
    "from keras.applications.vgg16 import preprocess_input\n",
    "from keras.preprocessing import image\n",
    "from keras.preprocessing.image import ImageDataGenerator\n",
    "from keras.models import Sequential\n",
    "import numpy as np\n",
    "from glob import glob\n",
    "import matplotlib.pyplot as plt\n",
    "\n",
    "import warnings\n",
    "warnings.filterwarnings(\"ignore\", category=FutureWarning)"
   ]
  },
  {
   "cell_type": "code",
   "execution_count": 2,
   "metadata": {
    "execution": {
     "iopub.execute_input": "2021-08-12T14:49:44.954977Z",
     "iopub.status.busy": "2021-08-12T14:49:44.954627Z",
     "iopub.status.idle": "2021-08-12T14:49:44.959881Z",
     "shell.execute_reply": "2021-08-12T14:49:44.959032Z",
     "shell.execute_reply.started": "2021-08-12T14:49:44.954927Z"
    }
   },
   "outputs": [],
   "source": [
    "IMAGE_SIZE = [224, 224]"
   ]
  },
  {
   "cell_type": "code",
   "execution_count": 3,
   "metadata": {
    "execution": {
     "iopub.execute_input": "2021-08-12T14:49:45.875035Z",
     "iopub.status.busy": "2021-08-12T14:49:45.874687Z",
     "iopub.status.idle": "2021-08-12T14:49:45.879808Z",
     "shell.execute_reply": "2021-08-12T14:49:45.878231Z",
     "shell.execute_reply.started": "2021-08-12T14:49:45.874999Z"
    }
   },
   "outputs": [],
   "source": [
    "#Give dataset path\n",
    "train_path = '../input/cancer/Data/train'\n",
    "test_path = '../input/cancer/Data/validation'"
   ]
  },
  {
   "cell_type": "code",
   "execution_count": 4,
   "metadata": {
    "execution": {
     "iopub.execute_input": "2021-08-12T14:49:48.345122Z",
     "iopub.status.busy": "2021-08-12T14:49:48.344720Z",
     "iopub.status.idle": "2021-08-12T14:49:51.313837Z",
     "shell.execute_reply": "2021-08-12T14:49:51.312977Z",
     "shell.execute_reply.started": "2021-08-12T14:49:48.345086Z"
    }
   },
   "outputs": [
    {
     "name": "stdout",
     "output_type": "stream",
     "text": [
      "Downloading data from https://storage.googleapis.com/tensorflow/keras-applications/vgg16/vgg16_weights_tf_dim_ordering_tf_kernels_notop.h5\n",
      "58892288/58889256 [==============================] - 0s 0us/step\n"
     ]
    }
   ],
   "source": [
    "vgg = VGG16(input_shape=IMAGE_SIZE + [3], weights='imagenet', include_top=False)"
   ]
  },
  {
   "cell_type": "code",
   "execution_count": 5,
   "metadata": {
    "execution": {
     "iopub.execute_input": "2021-08-12T14:49:51.316684Z",
     "iopub.status.busy": "2021-08-12T14:49:51.316098Z",
     "iopub.status.idle": "2021-08-12T14:49:51.321766Z",
     "shell.execute_reply": "2021-08-12T14:49:51.321040Z",
     "shell.execute_reply.started": "2021-08-12T14:49:51.316645Z"
    }
   },
   "outputs": [],
   "source": [
    "for layer in vgg.layers:\n",
    "  layer.trainable = False"
   ]
  },
  {
   "cell_type": "code",
   "execution_count": 6,
   "metadata": {
    "execution": {
     "iopub.execute_input": "2021-08-12T14:49:51.323632Z",
     "iopub.status.busy": "2021-08-12T14:49:51.323330Z",
     "iopub.status.idle": "2021-08-12T14:49:51.346195Z",
     "shell.execute_reply": "2021-08-12T14:49:51.345074Z",
     "shell.execute_reply.started": "2021-08-12T14:49:51.323606Z"
    }
   },
   "outputs": [
    {
     "name": "stdout",
     "output_type": "stream",
     "text": [
      "2\n"
     ]
    }
   ],
   "source": [
    "folders = glob('../input/cancer/Data/train/*')\n",
    "print(len(folders))"
   ]
  },
  {
   "cell_type": "code",
   "execution_count": 7,
   "metadata": {
    "execution": {
     "iopub.execute_input": "2021-08-12T14:49:53.964006Z",
     "iopub.status.busy": "2021-08-12T14:49:53.963678Z",
     "iopub.status.idle": "2021-08-12T14:49:53.998062Z",
     "shell.execute_reply": "2021-08-12T14:49:53.997177Z",
     "shell.execute_reply.started": "2021-08-12T14:49:53.963976Z"
    }
   },
   "outputs": [
    {
     "name": "stdout",
     "output_type": "stream",
     "text": [
      "Model: \"model\"\n",
      "_________________________________________________________________\n",
      "Layer (type)                 Output Shape              Param #   \n",
      "=================================================================\n",
      "input_1 (InputLayer)         [(None, 224, 224, 3)]     0         \n",
      "_________________________________________________________________\n",
      "block1_conv1 (Conv2D)        (None, 224, 224, 64)      1792      \n",
      "_________________________________________________________________\n",
      "block1_conv2 (Conv2D)        (None, 224, 224, 64)      36928     \n",
      "_________________________________________________________________\n",
      "block1_pool (MaxPooling2D)   (None, 112, 112, 64)      0         \n",
      "_________________________________________________________________\n",
      "block2_conv1 (Conv2D)        (None, 112, 112, 128)     73856     \n",
      "_________________________________________________________________\n",
      "block2_conv2 (Conv2D)        (None, 112, 112, 128)     147584    \n",
      "_________________________________________________________________\n",
      "block2_pool (MaxPooling2D)   (None, 56, 56, 128)       0         \n",
      "_________________________________________________________________\n",
      "block3_conv1 (Conv2D)        (None, 56, 56, 256)       295168    \n",
      "_________________________________________________________________\n",
      "block3_conv2 (Conv2D)        (None, 56, 56, 256)       590080    \n",
      "_________________________________________________________________\n",
      "block3_conv3 (Conv2D)        (None, 56, 56, 256)       590080    \n",
      "_________________________________________________________________\n",
      "block3_pool (MaxPooling2D)   (None, 28, 28, 256)       0         \n",
      "_________________________________________________________________\n",
      "block4_conv1 (Conv2D)        (None, 28, 28, 512)       1180160   \n",
      "_________________________________________________________________\n",
      "block4_conv2 (Conv2D)        (None, 28, 28, 512)       2359808   \n",
      "_________________________________________________________________\n",
      "block4_conv3 (Conv2D)        (None, 28, 28, 512)       2359808   \n",
      "_________________________________________________________________\n",
      "block4_pool (MaxPooling2D)   (None, 14, 14, 512)       0         \n",
      "_________________________________________________________________\n",
      "block5_conv1 (Conv2D)        (None, 14, 14, 512)       2359808   \n",
      "_________________________________________________________________\n",
      "block5_conv2 (Conv2D)        (None, 14, 14, 512)       2359808   \n",
      "_________________________________________________________________\n",
      "block5_conv3 (Conv2D)        (None, 14, 14, 512)       2359808   \n",
      "_________________________________________________________________\n",
      "block5_pool (MaxPooling2D)   (None, 7, 7, 512)         0         \n",
      "_________________________________________________________________\n",
      "flatten (Flatten)            (None, 25088)             0         \n",
      "_________________________________________________________________\n",
      "dense (Dense)                (None, 2)                 50178     \n",
      "=================================================================\n",
      "Total params: 14,764,866\n",
      "Trainable params: 50,178\n",
      "Non-trainable params: 14,714,688\n",
      "_________________________________________________________________\n"
     ]
    }
   ],
   "source": [
    "x = Flatten()(vgg.output)\n",
    "prediction = Dense(len(folders), activation='softmax')(x)\n",
    "model = Model(inputs=vgg.input, outputs=prediction)\n",
    "model.summary()"
   ]
  },
  {
   "cell_type": "code",
   "execution_count": 8,
   "metadata": {
    "execution": {
     "iopub.execute_input": "2021-08-12T14:49:55.075295Z",
     "iopub.status.busy": "2021-08-12T14:49:55.074931Z",
     "iopub.status.idle": "2021-08-12T14:49:55.090928Z",
     "shell.execute_reply": "2021-08-12T14:49:55.090027Z",
     "shell.execute_reply.started": "2021-08-12T14:49:55.075263Z"
    }
   },
   "outputs": [],
   "source": [
    "from keras import optimizers\n",
    "\n",
    "\n",
    "adam = optimizers.Adam()\n",
    "model.compile(loss='binary_crossentropy',\n",
    "              optimizer=adam,\n",
    "              metrics=['accuracy'])"
   ]
  },
  {
   "cell_type": "code",
   "execution_count": 9,
   "metadata": {
    "execution": {
     "iopub.execute_input": "2021-08-12T14:49:56.995085Z",
     "iopub.status.busy": "2021-08-12T14:49:56.994735Z",
     "iopub.status.idle": "2021-08-12T14:49:56.999625Z",
     "shell.execute_reply": "2021-08-12T14:49:56.998689Z",
     "shell.execute_reply.started": "2021-08-12T14:49:56.995055Z"
    }
   },
   "outputs": [],
   "source": [
    "train_datagen = ImageDataGenerator(\n",
    "    preprocessing_function=preprocess_input,\n",
    "    rotation_range=40,\n",
    "    width_shift_range=0.2,\n",
    "    height_shift_range=0.2,\n",
    "    shear_range=0.2,\n",
    "    zoom_range=0.2,\n",
    "    horizontal_flip=True,\n",
    "    fill_mode='nearest')"
   ]
  },
  {
   "cell_type": "code",
   "execution_count": 10,
   "metadata": {
    "execution": {
     "iopub.execute_input": "2021-08-12T14:49:58.065295Z",
     "iopub.status.busy": "2021-08-12T14:49:58.064905Z",
     "iopub.status.idle": "2021-08-12T14:49:58.070235Z",
     "shell.execute_reply": "2021-08-12T14:49:58.069081Z",
     "shell.execute_reply.started": "2021-08-12T14:49:58.065264Z"
    }
   },
   "outputs": [],
   "source": [
    "test_datagen = ImageDataGenerator(\n",
    "    preprocessing_function=preprocess_input,\n",
    "    rotation_range=40,\n",
    "    width_shift_range=0.2,\n",
    "    height_shift_range=0.2,\n",
    "    shear_range=0.2,\n",
    "    zoom_range=0.2,\n",
    "    horizontal_flip=True,\n",
    "    fill_mode='nearest')"
   ]
  },
  {
   "cell_type": "code",
   "execution_count": 11,
   "metadata": {
    "execution": {
     "iopub.execute_input": "2021-08-12T14:50:00.585300Z",
     "iopub.status.busy": "2021-08-12T14:50:00.584933Z",
     "iopub.status.idle": "2021-08-12T14:50:05.376541Z",
     "shell.execute_reply": "2021-08-12T14:50:05.375668Z",
     "shell.execute_reply.started": "2021-08-12T14:50:00.585270Z"
    }
   },
   "outputs": [
    {
     "name": "stdout",
     "output_type": "stream",
     "text": [
      "Found 5022 images belonging to 2 classes.\n"
     ]
    }
   ],
   "source": [
    "train_set = train_datagen.flow_from_directory(train_path,\n",
    "                                                 target_size = (224, 224),\n",
    "                                                 batch_size = 32,\n",
    "                                                 class_mode = 'categorical')"
   ]
  },
  {
   "cell_type": "code",
   "execution_count": 12,
   "metadata": {
    "execution": {
     "iopub.execute_input": "2021-08-12T14:50:05.378492Z",
     "iopub.status.busy": "2021-08-12T14:50:05.378149Z",
     "iopub.status.idle": "2021-08-12T14:50:09.910380Z",
     "shell.execute_reply": "2021-08-12T14:50:09.909010Z",
     "shell.execute_reply.started": "2021-08-12T14:50:05.378450Z"
    }
   },
   "outputs": [
    {
     "name": "stdout",
     "output_type": "stream",
     "text": [
      "Found 5022 images belonging to 2 classes.\n"
     ]
    }
   ],
   "source": [
    "test_set = test_datagen.flow_from_directory(test_path,\n",
    "                                            target_size = (224, 224),\n",
    "                                            batch_size = 32,\n",
    "                                            class_mode = 'categorical')"
   ]
  },
  {
   "cell_type": "code",
   "execution_count": 15,
   "metadata": {
    "execution": {
     "iopub.execute_input": "2021-08-12T14:54:43.940611Z",
     "iopub.status.busy": "2021-08-12T14:54:43.940266Z",
     "iopub.status.idle": "2021-08-12T15:00:44.211919Z",
     "shell.execute_reply": "2021-08-12T15:00:44.211013Z",
     "shell.execute_reply.started": "2021-08-12T14:54:43.940573Z"
    }
   },
   "outputs": [
    {
     "name": "stdout",
     "output_type": "stream",
     "text": [
      "Epoch 1/20\n",
      "10/10 - 19s - loss: 1.5074 - accuracy: 0.7906 - val_loss: 1.2866 - val_accuracy: 0.8242\n",
      "\n",
      "Epoch 00001: val_loss improved from inf to 1.28663, saving model to TL.h5\n",
      "Epoch 2/20\n",
      "10/10 - 19s - loss: 1.6155 - accuracy: 0.8062 - val_loss: 1.7129 - val_accuracy: 0.7939\n",
      "\n",
      "Epoch 00002: val_loss did not improve from 1.28663\n",
      "Epoch 3/20\n",
      "10/10 - 18s - loss: 1.7708 - accuracy: 0.8000 - val_loss: 1.2380 - val_accuracy: 0.8408\n",
      "\n",
      "Epoch 00003: val_loss improved from 1.28663 to 1.23800, saving model to TL.h5\n",
      "Epoch 4/20\n",
      "10/10 - 17s - loss: 1.3169 - accuracy: 0.8188 - val_loss: 1.3606 - val_accuracy: 0.8350\n",
      "\n",
      "Epoch 00004: val_loss did not improve from 1.23800\n",
      "Epoch 5/20\n",
      "10/10 - 17s - loss: 1.1278 - accuracy: 0.8625 - val_loss: 1.5184 - val_accuracy: 0.8271\n",
      "\n",
      "Epoch 00005: val_loss did not improve from 1.23800\n",
      "Epoch 6/20\n",
      "10/10 - 19s - loss: 1.2784 - accuracy: 0.8719 - val_loss: 1.1427 - val_accuracy: 0.8584\n",
      "\n",
      "Epoch 00006: val_loss improved from 1.23800 to 1.14268, saving model to TL.h5\n",
      "Epoch 7/20\n",
      "10/10 - 18s - loss: 1.3753 - accuracy: 0.8219 - val_loss: 1.4645 - val_accuracy: 0.8389\n",
      "\n",
      "Epoch 00007: val_loss did not improve from 1.14268\n",
      "Epoch 8/20\n",
      "10/10 - 17s - loss: 1.0240 - accuracy: 0.8656 - val_loss: 1.2625 - val_accuracy: 0.8594\n",
      "\n",
      "Epoch 00008: val_loss did not improve from 1.14268\n",
      "Epoch 9/20\n",
      "10/10 - 19s - loss: 1.5693 - accuracy: 0.8375 - val_loss: 1.4097 - val_accuracy: 0.8496\n",
      "\n",
      "Epoch 00009: val_loss did not improve from 1.14268\n",
      "Epoch 10/20\n",
      "10/10 - 18s - loss: 1.2886 - accuracy: 0.8438 - val_loss: 1.2392 - val_accuracy: 0.8564\n",
      "\n",
      "Epoch 00010: val_loss did not improve from 1.14268\n",
      "Epoch 11/20\n",
      "10/10 - 18s - loss: 1.0870 - accuracy: 0.8625 - val_loss: 1.3740 - val_accuracy: 0.8418\n",
      "\n",
      "Epoch 00011: val_loss did not improve from 1.14268\n",
      "Epoch 12/20\n",
      "10/10 - 17s - loss: 1.4852 - accuracy: 0.8562 - val_loss: 0.9551 - val_accuracy: 0.8594\n",
      "\n",
      "Epoch 00012: val_loss improved from 1.14268 to 0.95512, saving model to TL.h5\n",
      "Epoch 13/20\n",
      "10/10 - 18s - loss: 1.0429 - accuracy: 0.8813 - val_loss: 1.3247 - val_accuracy: 0.8350\n",
      "\n",
      "Epoch 00013: val_loss did not improve from 0.95512\n",
      "Epoch 14/20\n",
      "10/10 - 18s - loss: 1.3968 - accuracy: 0.8281 - val_loss: 1.0365 - val_accuracy: 0.8760\n",
      "\n",
      "Epoch 00014: val_loss did not improve from 0.95512\n",
      "Epoch 15/20\n",
      "10/10 - 18s - loss: 1.5597 - accuracy: 0.8313 - val_loss: 1.2791 - val_accuracy: 0.8516\n",
      "\n",
      "Epoch 00015: val_loss did not improve from 0.95512\n",
      "Epoch 16/20\n",
      "10/10 - 19s - loss: 1.2683 - accuracy: 0.8438 - val_loss: 1.3019 - val_accuracy: 0.8262\n",
      "\n",
      "Epoch 00016: val_loss did not improve from 0.95512\n",
      "Epoch 17/20\n",
      "10/10 - 17s - loss: 1.2875 - accuracy: 0.8438 - val_loss: 1.2124 - val_accuracy: 0.8457\n",
      "\n",
      "Epoch 00017: val_loss did not improve from 0.95512\n",
      "Epoch 18/20\n",
      "10/10 - 19s - loss: 0.8736 - accuracy: 0.8774 - val_loss: 1.3472 - val_accuracy: 0.8467\n",
      "\n",
      "Epoch 00018: val_loss did not improve from 0.95512\n",
      "Epoch 19/20\n",
      "10/10 - 18s - loss: 1.4958 - accuracy: 0.8625 - val_loss: 1.5792 - val_accuracy: 0.8320\n",
      "\n",
      "Epoch 00019: val_loss did not improve from 0.95512\n",
      "Epoch 20/20\n",
      "10/10 - 17s - loss: 1.1391 - accuracy: 0.8813 - val_loss: 1.0821 - val_accuracy: 0.8809\n",
      "\n",
      "Epoch 00020: val_loss did not improve from 0.95512\n",
      "Training completed in time:  0:06:00.264157\n"
     ]
    }
   ],
   "source": [
    "from datetime import datetime\n",
    "from keras.callbacks import ModelCheckpoint\n",
    "\n",
    "\n",
    "\n",
    "checkpoint = ModelCheckpoint(filepath='TL.h5', \n",
    "                               verbose=2, save_best_only=True)\n",
    "\n",
    "callbacks = [checkpoint]\n",
    "\n",
    "start = datetime.now()\n",
    "\n",
    "model_history=model.fit_generator(\n",
    "  train_set,\n",
    "  validation_data=test_set,\n",
    "  epochs=20,\n",
    "  steps_per_epoch=10,\n",
    "  validation_steps=32,\n",
    "    callbacks=callbacks ,verbose=2)\n",
    "\n",
    "\n",
    "duration = datetime.now() - start\n",
    "print(\"Training completed in time: \", duration)"
   ]
  },
  {
   "cell_type": "code",
   "execution_count": 16,
   "metadata": {
    "execution": {
     "iopub.execute_input": "2021-08-12T15:00:44.214199Z",
     "iopub.status.busy": "2021-08-12T15:00:44.213530Z",
     "iopub.status.idle": "2021-08-12T15:00:44.365872Z",
     "shell.execute_reply": "2021-08-12T15:00:44.364883Z",
     "shell.execute_reply.started": "2021-08-12T15:00:44.214160Z"
    }
   },
   "outputs": [
    {
     "data": {
      "image/png": "[encoded data removed]",
      "text/plain": [
       "<Figure size 432x288 with 1 Axes>"
      ]
     },
     "metadata": {
      "needs_background": "light"
     },
     "output_type": "display_data"
    }
   ],
   "source": [
    "_# Plot training & validation loss values\n",
    "plt.plot(model_history.history['accuracy'])\n",
    "plt.plot(model_history.history['val_accuracy'])\n",
    "plt.title('VGG16 Model accuracy values')\n",
    "plt.ylabel('Accuracy')\n",
    "plt.xlabel('Epoch')\n",
    "plt.legend(['Train', 'Test'], loc='upper left')\n",
    "plt.show()"
   ]
  },
  {
   "cell_type": "code",
   "execution_count": null,
   "metadata": {},
   "outputs": [],
   "source": []
  }
 ],
 "metadata": {
  "kernelspec": {
   "display_name": "Python 3",
   "language": "python",
   "name": "python3"
  },
  "language_info": {
   "codemirror_mode": {
    "name": "ipython",
    "version": 3
   },
   "file_extension": ".py",
   "mimetype": "text/x-python",
   "name": "python",
   "nbconvert_exporter": "python",
   "pygments_lexer": "ipython3",
   "version": "3.8.3"
  }
 },
 "nbformat": 4,
 "nbformat_minor": 4
}
